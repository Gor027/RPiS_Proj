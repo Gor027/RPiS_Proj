{
 "cells": [
  {
   "cell_type": "markdown",
   "metadata": {},
   "source": [
    "# Mean and standard deviation"
   ]
  },
  {
   "cell_type": "markdown",
   "metadata": {},
   "source": [
    "**Problem 3a.** In this problem we look at the mean and the standard deviation from a more statistical point of view.\n",
    " * Generate $N=1\\,000$ values $x_1,\\ldots,x_n$ from Poisson($\\lambda$) distribution for $\\lambda=10$. You might want to use the function **poisson(lambda,shape)** from package **numpy.random**.\n",
    " * Plot a histogram of these values. What is the mean of Poisson($\\lambda$)? What is the standard deviation? Are these values a good description of what you see in the histogram?\n",
    " * For $i \\in \\{1,\\ldots,n\\}$ compute $\\bar{x}_i = \\frac{x_1+\\ldots+x_i}{i}$. Plot the values of $\\bar{x}_i$.\n",
    " * On the same figure, plot a horizontal line corresponding to the expected value ($\\lambda$) of all those averages.\n",
    " * Compute (analitically) the standard deviation $\\sigma_i$ of the $i$-th average and plot lines $\\lambda \\pm \\sigma_i$, again on the same figure.\n",
    " * Does the standard deviation accurately describe the *typical* deviations?"
   ]
  },
  {
   "cell_type": "markdown",
   "metadata": {},
   "source": [
    "**Problem 3b.** In this task we consider a discrete distribution *without a mean* and verify whether we can still estimate the location of its peak by simply computing averages. Consider a discrete variable $X$ with the following distribution: $P(X=k) = \\frac{1}{4|k|(|k|+1)}$ for $k \\neq 0$ and $P(X=0) = \\frac{1}{2}$. \n",
    " * Argue that these formulas indeed describe a discrete distribution.\n",
    " * Show that $X$ does not have a mean.\n",
    " * Plot the function $f(k) = P(X=k)$ for $k \\in [-10,10]$.\n",
    " * Write a function that samples from $X$'s distribution (imaginary bonus points if it is vectorized).\n",
    " * Generate $N=10\\,000$ values $x_1,\\ldots,x_n$ from the distribution.\n",
    " * For $i \\in \\{1,\\ldots,n\\}$ compute $\\bar{x}_i = \\frac{x_1+\\ldots+x_i}{i}$. \n",
    " * Plot the values of $\\bar{x}_i$. Does it look like the series converges? If it is not clear, you can compute several independent\n",
    "   $N$-means and plot a histogram, then increase $N$ significantly and see how it changes.\n",
    " * For $i \\in \\{1,\\ldots,n\\}$ compute $\\hat{x}_i = \\textrm{ median of }\\{x_1,\\ldots,x_i\\}$. \n",
    "   You do not need to do it in a clever way (like in ASD lab).\n",
    " * Plot the values of $\\hat{x}_i$. Does it look like the series converges? \n",
    " * A more interesting situation would be the one where you a given a distribution like $X+c$ for unknown $c$, and \n",
    "   want to figure out what $c$ is, i.e. find the center of the distribution. Both methods above attempt to\n",
    "   locate the center - which works better?"
   ]
  },
  {
   "cell_type": "markdown",
   "metadata": {},
   "source": [
    "**Problem 3c.** We are now going to investigate an intermediate case - a variable with a finite mean, but no variance. Consider a discrete variable $Y$ with the following distribution: $P(Y=k) = \\frac{1}{|k|(|k|+1)(|k|+2)}$ for $k \\neq 0$ and $P(Y=0) = \\frac{1}{2}$. \n",
    " * Argue that these formulas indeed describe a discrete distribution.\n",
    " * Show that $EY=0$, but $Y$ has no variation (i.e. the defining series is not absolutely convergent).\n",
    " * Plot the function $f(k) = P(Y=k)$ for $k \\in [-10,10]$.\n",
    " * Write a function that samples from $Y$'s distribution.\n",
    " * Generate $N=10\\,000$ values $y_1,\\ldots,y_n$ from the distribution.\n",
    " * For $i \\in \\{1,\\ldots,n\\}$ compute $\\bar{y}_i = \\frac{y_1+\\ldots+y_i}{i}$. \n",
    " * Plot the values of $\\bar{y}_i$. Does it look like the series converges?\n",
    " * For $i \\in \\{1,\\ldots,n\\}$ compute $\\hat{y}_i = \\textrm{ median of }\\{y_1,\\ldots,y_i\\}$.\n",
    " * Plot the values of $\\hat{y}_i$.\n",
    " * Discuss the results obtained."
   ]
  },
  {
   "cell_type": "code",
   "execution_count": 2,
   "metadata": {},
   "outputs": [
    {
     "data": {
      "image/png": "[encoded data removed]",
      "text/plain": [
       "<Figure size 432x288 with 1 Axes>"
      ]
     },
     "metadata": {
      "needs_background": "light"
     },
     "output_type": "display_data"
    }
   ],
   "source": [
    "# Plotting function f(k)\n",
    "from __future__ import division\n",
    "import numpy as np\n",
    "import matplotlib.pyplot as plt\n",
    "\n",
    "dist = lambda k: 1/(abs(k) * (abs(k)+1) * (abs(k)+2)) if k else 0.5\n",
    "# -10 is included but 11 is excluded\n",
    "a = np.arange(-10, 11)\n",
    "b = np.vectorize(dist)(a)\n",
    "\n",
    "plt.plot(a, b, c='b')\n",
    "plt.scatter(a, b, s=77)\n",
    "plt.show()\n"
   ]
  },
  {
   "cell_type": "code",
   "execution_count": 3,
   "metadata": {},
   "outputs": [],
   "source": [
    "# Writting function sampling from Y's distribution\n",
    "\n",
    "import random\n",
    "import math\n",
    "\n",
    "def sampleValue():\n",
    "    # P(k = 0) = 0.5\n",
    "    # As the graph shows the symmetry for prob of k != 0\n",
    "    # Then P(k > 0) = P(k < 0) = (1 - 0.5)/0.5\n",
    "    # So lets simulate the prob using array and random function\n",
    "    sim = {\n",
    "        1: -1,\n",
    "        2: 0,\n",
    "        3: 0,\n",
    "        4: 1\n",
    "    }\n",
    "\n",
    "    place = sim[random.randint(1, 4)]\n",
    "    probSim = np.random.uniform() / 4\n",
    "    cum_dist = 0\n",
    "    k = 1\n",
    "\n",
    "    while cum_dist <= probSim:\n",
    "        # Invariant:\n",
    "        cum_dist = cum_dist + 1/(k*(k+1)*(k+2))\n",
    "        # k++\n",
    "        k += 1\n",
    "\n",
    "    return place * k\n",
    "\n",
    "# N is 10.000, generating N values from described distribution\n",
    "N = 10000\n",
    "# Values array according to given distribution\n",
    "# Calls sampleValue 10000 times\n",
    "values = np.array([sampleValue() for i in range(N)])\n",
    "\n",
    "# print(values)"
   ]
  },
  {
   "cell_type": "code",
   "execution_count": 4,
   "metadata": {},
   "outputs": [
    {
     "data": {
      "image/png": "[encoded data removed]",
      "text/plain": [
       "<Figure size 432x288 with 1 Axes>"
      ]
     },
     "metadata": {
      "needs_background": "light"
     },
     "output_type": "display_data"
    }
   ],
   "source": [
    "# Computing Y_i mean as shown in formula\n",
    "a = np.arange(N)\n",
    "mean = np.cumsum(values) / (a+1)\n",
    "plt.plot(a, mean)\n",
    "plt.show()\n",
    "# From the plot it is obvious that the series converges.\n",
    "# According to the strong law of the large numbers, the means should converge to the mean(EY) which is 0."
   ]
  },
  {
   "cell_type": "code",
   "execution_count": 5,
   "metadata": {},
   "outputs": [
    {
     "data": {
      "image/png": "[encoded data removed]",
      "text/plain": [
       "<Figure size 432x288 with 1 Axes>"
      ]
     },
     "metadata": {
      "needs_background": "light"
     },
     "output_type": "display_data"
    }
   ],
   "source": [
    "# Computting median\n",
    "# a[:(i)] is slice notation which means items from start to i-1\n",
    "# That is why we add 1 to get from start to i\n",
    "median = [np.median(values[:(i+1)]) for i in a]\n",
    "plt.plot(a, median)\n",
    "# It is obvious that the Y-axis should range really close to 0.\n",
    "# So, we can limit the Y-axis close to it.\n",
    "plt.ylim([-0.0000005,0.0000005])\n",
    "plt.show()"
   ]
  },
  {
   "cell_type": "code",
   "execution_count": null,
   "metadata": {},
   "outputs": [],
   "source": [
    "Conclusion:\n",
    "    The sample median converges faster to the mean than the sample mean converges to the actual mean."
   ]
  }
 ],
 "metadata": {
  "kernelspec": {
   "display_name": "Python 3",
   "language": "python",
   "name": "python3"
  },
  "language_info": {
   "codemirror_mode": {
    "name": "ipython",
    "version": 3
   },
   "file_extension": ".py",
   "mimetype": "text/x-python",
   "name": "python",
   "nbconvert_exporter": "python",
   "pygments_lexer": "ipython3",
   "version": "3.7.5"
  }
 },
 "nbformat": 4,
 "nbformat_minor": 1
}
